{
 "cells": [
  {
   "cell_type": "code",
   "execution_count": 206,
   "id": "839be44a-7cb9-4dfd-86f6-1618224b98f9",
   "metadata": {},
   "outputs": [],
   "source": [
    "import numpy as np"
   ]
  },
  {
   "cell_type": "markdown",
   "id": "5104b797-258d-465c-9a4a-fa4ac8a0ca68",
   "metadata": {},
   "source": [
    "## numpy arrays"
   ]
  },
  {
   "cell_type": "code",
   "execution_count": 207,
   "id": "530fb65c-1fdd-4f80-894c-8173176254f9",
   "metadata": {},
   "outputs": [],
   "source": [
    "myList = [20, 30, 40]"
   ]
  },
  {
   "cell_type": "code",
   "execution_count": 208,
   "id": "8d6f18a2-d8c6-4a60-8c96-7b69a9543840",
   "metadata": {},
   "outputs": [],
   "source": [
    "npArray = np.array(myList)"
   ]
  },
  {
   "cell_type": "code",
   "execution_count": 209,
   "id": "5a07a70c-2e0f-4ec2-ade0-39323732c474",
   "metadata": {},
   "outputs": [],
   "source": [
    "matrixList = [[10, 20, 30], [20, 30, 40], [40, 50, 60]]"
   ]
  },
  {
   "cell_type": "code",
   "execution_count": 210,
   "id": "c2a6da3e-22b5-4251-9c80-0915b2aaa4de",
   "metadata": {},
   "outputs": [],
   "source": [
    "matrixArray = np.array(matrixList)"
   ]
  },
  {
   "cell_type": "markdown",
   "id": "5869a24f-b32c-4eb9-ac2d-cf9d1df01b73",
   "metadata": {},
   "source": [
    "## numpy methods"
   ]
  },
  {
   "cell_type": "markdown",
   "id": "6e12df6d-067f-4932-8b90-f0ae776d722b",
   "metadata": {},
   "source": [
    "* #### arange"
   ]
  },
  {
   "cell_type": "code",
   "execution_count": 211,
   "id": "e170ac12-c0a5-42c6-8c54-d1815b97c0da",
   "metadata": {},
   "outputs": [
    {
     "data": {
      "text/plain": [
       "[0, 1, 2, 3, 4, 5, 6, 7, 8, 9]"
      ]
     },
     "execution_count": 211,
     "metadata": {},
     "output_type": "execute_result"
    }
   ],
   "source": [
    "list(range(0,10))"
   ]
  },
  {
   "cell_type": "code",
   "execution_count": 212,
   "id": "c4288ee3-1ef2-4bf0-a45a-33f868d7f22b",
   "metadata": {},
   "outputs": [
    {
     "data": {
      "text/plain": [
       "array([0, 1, 2, 3, 4, 5, 6, 7, 8, 9])"
      ]
     },
     "execution_count": 212,
     "metadata": {},
     "output_type": "execute_result"
    }
   ],
   "source": [
    "np.arange(0, 10)"
   ]
  },
  {
   "cell_type": "code",
   "execution_count": 213,
   "id": "fa6819b3-71f3-42c2-81ad-6faae0b2405c",
   "metadata": {},
   "outputs": [
    {
     "data": {
      "text/plain": [
       "array([ 0,  2,  4,  6,  8, 10, 12, 14, 16, 18])"
      ]
     },
     "execution_count": 213,
     "metadata": {},
     "output_type": "execute_result"
    }
   ],
   "source": [
    "np.arange(0,20,2)"
   ]
  },
  {
   "cell_type": "markdown",
   "id": "4f6c35f2-f2e2-494b-802b-02afe6eaec87",
   "metadata": {},
   "source": [
    "* #### zeros and ones"
   ]
  },
  {
   "cell_type": "code",
   "execution_count": 214,
   "id": "2d4d062b-3a7d-4aa6-af74-ee893f572134",
   "metadata": {},
   "outputs": [
    {
     "data": {
      "text/plain": [
       "array([0., 0., 0., 0., 0.])"
      ]
     },
     "execution_count": 214,
     "metadata": {},
     "output_type": "execute_result"
    }
   ],
   "source": [
    "np.zeros(5) # Returns an array of zeros"
   ]
  },
  {
   "cell_type": "code",
   "execution_count": 215,
   "id": "58ef252c-bdbd-4495-b9a5-6780f2d368b9",
   "metadata": {},
   "outputs": [
    {
     "data": {
      "text/plain": [
       "array([1., 1., 1., 1., 1.])"
      ]
     },
     "execution_count": 215,
     "metadata": {},
     "output_type": "execute_result"
    }
   ],
   "source": [
    "np.ones(5) # Returns an array of ones"
   ]
  },
  {
   "cell_type": "code",
   "execution_count": 216,
   "id": "8cfd4ec7-32da-446d-80b0-aa9ae53d7c9a",
   "metadata": {},
   "outputs": [
    {
     "data": {
      "text/plain": [
       "array([[0., 0., 0., 0., 0., 0.],\n",
       "       [0., 0., 0., 0., 0., 0.],\n",
       "       [0., 0., 0., 0., 0., 0.],\n",
       "       [0., 0., 0., 0., 0., 0.],\n",
       "       [0., 0., 0., 0., 0., 0.],\n",
       "       [0., 0., 0., 0., 0., 0.]])"
      ]
     },
     "execution_count": 216,
     "metadata": {},
     "output_type": "execute_result"
    }
   ],
   "source": [
    "np.zeros((6,6))"
   ]
  },
  {
   "cell_type": "markdown",
   "id": "65b02abd-7bb3-48f9-adb6-a2d45775aad1",
   "metadata": {},
   "source": [
    "* #### linspace"
   ]
  },
  {
   "cell_type": "code",
   "execution_count": 217,
   "id": "7268033d-f08d-4f85-8cee-d19fa4c3cdaa",
   "metadata": {},
   "outputs": [
    {
     "data": {
      "text/plain": [
       "array([ 0.,  5., 10., 15., 20.])"
      ]
     },
     "execution_count": 217,
     "metadata": {},
     "output_type": "execute_result"
    }
   ],
   "source": [
    "np.linspace(0,20,5) # (m, n, k) => Returns an aray of k elements which are seperated equally between m and n"
   ]
  },
  {
   "cell_type": "code",
   "execution_count": 218,
   "id": "34bcd8be-c524-41d6-9a83-1b40971dd279",
   "metadata": {},
   "outputs": [
    {
     "data": {
      "text/plain": [
       "array([ 0.        ,  0.52631579,  1.05263158,  1.57894737,  2.10526316,\n",
       "        2.63157895,  3.15789474,  3.68421053,  4.21052632,  4.73684211,\n",
       "        5.26315789,  5.78947368,  6.31578947,  6.84210526,  7.36842105,\n",
       "        7.89473684,  8.42105263,  8.94736842,  9.47368421, 10.        ])"
      ]
     },
     "execution_count": 218,
     "metadata": {},
     "output_type": "execute_result"
    }
   ],
   "source": [
    "np.linspace(0,10,20)"
   ]
  },
  {
   "cell_type": "markdown",
   "id": "e8d75421-0150-468c-9b30-c57db8cb1fa6",
   "metadata": {},
   "source": [
    "* #### eye"
   ]
  },
  {
   "cell_type": "code",
   "execution_count": 219,
   "id": "8490463f-2bf4-4312-a161-c0b65f98a802",
   "metadata": {},
   "outputs": [
    {
     "data": {
      "text/plain": [
       "array([[1., 0., 0.],\n",
       "       [0., 1., 0.],\n",
       "       [0., 0., 1.]])"
      ]
     },
     "execution_count": 219,
     "metadata": {},
     "output_type": "execute_result"
    }
   ],
   "source": [
    "np.eye(3) # Returns a 2-D array with ones on the diagonal and zeros elsewhere."
   ]
  },
  {
   "cell_type": "code",
   "execution_count": 220,
   "id": "efc168c3-8f1a-4761-beae-d33f29ec1e3a",
   "metadata": {},
   "outputs": [
    {
     "data": {
      "text/plain": [
       "array([[1., 0., 0., 0., 0., 0., 0., 0., 0., 0.],\n",
       "       [0., 1., 0., 0., 0., 0., 0., 0., 0., 0.],\n",
       "       [0., 0., 1., 0., 0., 0., 0., 0., 0., 0.],\n",
       "       [0., 0., 0., 1., 0., 0., 0., 0., 0., 0.],\n",
       "       [0., 0., 0., 0., 1., 0., 0., 0., 0., 0.],\n",
       "       [0., 0., 0., 0., 0., 1., 0., 0., 0., 0.],\n",
       "       [0., 0., 0., 0., 0., 0., 1., 0., 0., 0.],\n",
       "       [0., 0., 0., 0., 0., 0., 0., 1., 0., 0.],\n",
       "       [0., 0., 0., 0., 0., 0., 0., 0., 1., 0.],\n",
       "       [0., 0., 0., 0., 0., 0., 0., 0., 0., 1.]])"
      ]
     },
     "execution_count": 220,
     "metadata": {},
     "output_type": "execute_result"
    }
   ],
   "source": [
    "np.eye(10)"
   ]
  },
  {
   "cell_type": "markdown",
   "id": "833e1190-6945-46dc-bdc1-44625597ec7e",
   "metadata": {},
   "source": [
    "* #### random"
   ]
  },
  {
   "cell_type": "code",
   "execution_count": 221,
   "id": "04a34b27-dbe6-473e-95dd-e4cec492c278",
   "metadata": {},
   "outputs": [
    {
     "data": {
      "text/plain": [
       "array([-0.53249209, -0.5902856 ,  0.84334248,  0.63354924,  0.91740335,\n",
       "        0.10238941, -1.92288344,  0.50646163])"
      ]
     },
     "execution_count": 221,
     "metadata": {},
     "output_type": "execute_result"
    }
   ],
   "source": [
    "np.random.randn(8) # Returns a n sized random list or n x m x ... x k random matrix"
   ]
  },
  {
   "cell_type": "code",
   "execution_count": 222,
   "id": "dd449525-6f30-40d4-b2ee-f2c469484cf8",
   "metadata": {},
   "outputs": [
    {
     "data": {
      "text/plain": [
       "array([[-0.85970625,  0.77902486,  0.48525359],\n",
       "       [ 2.14811973, -2.46189578,  0.44385761],\n",
       "       [ 0.70916015, -0.91781118, -0.39323401]])"
      ]
     },
     "execution_count": 222,
     "metadata": {},
     "output_type": "execute_result"
    }
   ],
   "source": [
    "np.random.randn(3,3)"
   ]
  },
  {
   "cell_type": "code",
   "execution_count": 223,
   "id": "f7e01e80-7702-4bb4-a211-6f1e3fb09f94",
   "metadata": {},
   "outputs": [
    {
     "data": {
      "text/plain": [
       "4"
      ]
     },
     "execution_count": 223,
     "metadata": {},
     "output_type": "execute_result"
    }
   ],
   "source": [
    "np.random.randint(1,10) # Returns a random int between min-max args"
   ]
  },
  {
   "cell_type": "code",
   "execution_count": 224,
   "id": "c69e707f-3b19-4ee9-89c2-297abca3a11b",
   "metadata": {},
   "outputs": [
    {
     "data": {
      "text/plain": [
       "array([381, 158, 693,  50,  81, 563, 614, 244])"
      ]
     },
     "execution_count": 224,
     "metadata": {},
     "output_type": "execute_result"
    }
   ],
   "source": [
    "np.random.randint(1,700,8) # Returns a random int array"
   ]
  },
  {
   "cell_type": "markdown",
   "id": "85f3c54d-b0ce-4501-953a-e26d1e32edb2",
   "metadata": {},
   "source": [
    "* ## array methods"
   ]
  },
  {
   "cell_type": "code",
   "execution_count": 225,
   "id": "bea516d9-9e9c-43ea-9f40-b24c940f886a",
   "metadata": {},
   "outputs": [],
   "source": [
    "npArr = np.random.randn(25)"
   ]
  },
  {
   "cell_type": "code",
   "execution_count": 226,
   "id": "65a8acf3-90ab-4138-8368-6802e115e590",
   "metadata": {},
   "outputs": [
    {
     "data": {
      "text/plain": [
       "array([[ 0.59101416, -0.50541683,  0.15343681, -1.24460189,  0.33461019],\n",
       "       [-1.49748105,  1.71968277,  0.42734726, -2.00329435, -0.16365752],\n",
       "       [-0.76243525,  0.42048828,  0.90905135, -0.71926145,  0.59628258],\n",
       "       [ 1.44832951,  0.11047886, -0.27709373, -0.03068219, -0.91811416],\n",
       "       [ 0.45157944, -0.3904766 , -0.02322583,  2.0684326 , -0.17094615]])"
      ]
     },
     "execution_count": 226,
     "metadata": {},
     "output_type": "execute_result"
    }
   ],
   "source": [
    "npArr.reshape(5,5) # Returns the reshaped array (array can be reshaped as a matrix) !! should be used with valid args"
   ]
  },
  {
   "cell_type": "code",
   "execution_count": 227,
   "id": "9f3b18fd-81d2-4800-977c-d9bb07bf0982",
   "metadata": {},
   "outputs": [
    {
     "data": {
      "text/plain": [
       "2.068432598089616"
      ]
     },
     "execution_count": 227,
     "metadata": {},
     "output_type": "execute_result"
    }
   ],
   "source": [
    "npArr.max()"
   ]
  },
  {
   "cell_type": "code",
   "execution_count": 228,
   "id": "9e70b70f-fa1c-4896-835a-ca7501e6fe83",
   "metadata": {},
   "outputs": [
    {
     "data": {
      "text/plain": [
       "-2.0032943484508636"
      ]
     },
     "execution_count": 228,
     "metadata": {},
     "output_type": "execute_result"
    }
   ],
   "source": [
    "npArr.min()"
   ]
  },
  {
   "cell_type": "code",
   "execution_count": 229,
   "id": "70b327e2-67b1-4382-b62e-0d5be301264a",
   "metadata": {},
   "outputs": [
    {
     "data": {
      "text/plain": [
       "23"
      ]
     },
     "execution_count": 229,
     "metadata": {},
     "output_type": "execute_result"
    }
   ],
   "source": [
    "npArr.argmax() # Returns the index of the max element"
   ]
  },
  {
   "cell_type": "code",
   "execution_count": 230,
   "id": "f3035b5c-ce80-47d1-8114-e89e055adb40",
   "metadata": {},
   "outputs": [
    {
     "data": {
      "text/plain": [
       "8"
      ]
     },
     "execution_count": 230,
     "metadata": {},
     "output_type": "execute_result"
    }
   ],
   "source": [
    "npArr.argmin() # Returns the index of the min element"
   ]
  },
  {
   "cell_type": "markdown",
   "id": "ed06c536-257e-4e1a-93ff-6c6fe9abd772",
   "metadata": {},
   "source": [
    "*  #### index operations with numpy arrays"
   ]
  },
  {
   "cell_type": "markdown",
   "id": "ab7bf0a2-37f3-4c39-b5db-e75b9028beab",
   "metadata": {},
   "source": [
    "> Everything works with standart lists also works with numpy arrays"
   ]
  },
  {
   "cell_type": "code",
   "execution_count": 231,
   "id": "7fcaee79-cb2b-4aca-af8d-517ddb25c95a",
   "metadata": {},
   "outputs": [
    {
     "data": {
      "text/plain": [
       "-1.497481050220605"
      ]
     },
     "execution_count": 231,
     "metadata": {},
     "output_type": "execute_result"
    }
   ],
   "source": [
    "npArr[5]"
   ]
  },
  {
   "cell_type": "code",
   "execution_count": 232,
   "id": "3046b432-fdf9-4b90-ae31-6365c0e3ecab",
   "metadata": {},
   "outputs": [
    {
     "data": {
      "text/plain": [
       "array([-1.24460189,  0.33461019, -1.49748105,  1.71968277,  0.42734726])"
      ]
     },
     "execution_count": 232,
     "metadata": {},
     "output_type": "execute_result"
    }
   ],
   "source": [
    "npArr[3:8]"
   ]
  },
  {
   "cell_type": "markdown",
   "id": "65846ea8-aca1-44e9-bf1a-df25e1462960",
   "metadata": {},
   "source": [
    "> But more things can be done with numpy array"
   ]
  },
  {
   "cell_type": "code",
   "execution_count": 233,
   "id": "940e2944-1454-4eeb-8dfc-560680576a40",
   "metadata": {},
   "outputs": [],
   "source": [
    "npArr[2:5] = -5 # Assigns the value to the elements in the sliced part"
   ]
  },
  {
   "cell_type": "code",
   "execution_count": 234,
   "id": "d325260c-ae17-4007-96e4-daf7c0f753de",
   "metadata": {},
   "outputs": [
    {
     "data": {
      "text/plain": [
       "array([ 0.59101416, -0.50541683, -5.        , -5.        , -5.        ,\n",
       "       -1.49748105,  1.71968277,  0.42734726, -2.00329435, -0.16365752,\n",
       "       -0.76243525,  0.42048828,  0.90905135, -0.71926145,  0.59628258,\n",
       "        1.44832951,  0.11047886, -0.27709373, -0.03068219, -0.91811416,\n",
       "        0.45157944, -0.3904766 , -0.02322583,  2.0684326 , -0.17094615])"
      ]
     },
     "execution_count": 234,
     "metadata": {},
     "output_type": "execute_result"
    }
   ],
   "source": [
    "npArr"
   ]
  },
  {
   "cell_type": "code",
   "execution_count": null,
   "id": "480a9d79-de0e-4589-be8a-9599576a3e90",
   "metadata": {},
   "outputs": [],
   "source": []
  },
  {
   "cell_type": "code",
   "execution_count": 235,
   "id": "f1218d6a-5e2d-4ee8-9661-b36d64e933da",
   "metadata": {},
   "outputs": [],
   "source": [
    "anotherArr = np.arange(0,25)"
   ]
  },
  {
   "cell_type": "code",
   "execution_count": 236,
   "id": "4e251ba0-9c60-4b0f-b0ba-629dcced3cc5",
   "metadata": {},
   "outputs": [],
   "source": [
    "slicedArr = anotherArr[3:10]"
   ]
  },
  {
   "cell_type": "code",
   "execution_count": 237,
   "id": "7017ec71-3c71-4f21-8944-9e6060eda5d7",
   "metadata": {},
   "outputs": [],
   "source": [
    "slicedArr[:] = 700 # Assigns the value to every element in the array"
   ]
  },
  {
   "cell_type": "code",
   "execution_count": 238,
   "id": "c20d2d29-6d69-42dd-83b4-9c77bce06f65",
   "metadata": {},
   "outputs": [
    {
     "data": {
      "text/plain": [
       "array([700, 700, 700, 700, 700, 700, 700])"
      ]
     },
     "execution_count": 238,
     "metadata": {},
     "output_type": "execute_result"
    }
   ],
   "source": [
    "slicedArr"
   ]
  },
  {
   "cell_type": "code",
   "execution_count": 239,
   "id": "de1611b3-59d6-43a4-b84a-ba83543c63dc",
   "metadata": {},
   "outputs": [
    {
     "data": {
      "text/plain": [
       "array([  0,   1,   2, 700, 700, 700, 700, 700, 700, 700,  10,  11,  12,\n",
       "        13,  14,  15,  16,  17,  18,  19,  20,  21,  22,  23,  24])"
      ]
     },
     "execution_count": 239,
     "metadata": {},
     "output_type": "execute_result"
    }
   ],
   "source": [
    "anotherArr # More interesting part is main array is also changed when we change the sliced array"
   ]
  },
  {
   "cell_type": "code",
   "execution_count": 240,
   "id": "1e125e9b-ade7-4e6e-88d4-3690422ae275",
   "metadata": {},
   "outputs": [],
   "source": [
    "copyArr = anotherArr.copy()[3:10] # To prevent the change in main array we should use a copy of it"
   ]
  },
  {
   "cell_type": "code",
   "execution_count": 241,
   "id": "ba4f282d-c723-4a53-b64a-0056b93750b7",
   "metadata": {},
   "outputs": [],
   "source": [
    "copyArr[:] = 5"
   ]
  },
  {
   "cell_type": "code",
   "execution_count": 242,
   "id": "d616d148-6d16-43bf-9c4d-1826b07ff519",
   "metadata": {},
   "outputs": [
    {
     "data": {
      "text/plain": [
       "array([  0,   1,   2, 700, 700, 700, 700, 700, 700, 700,  10,  11,  12,\n",
       "        13,  14,  15,  16,  17,  18,  19,  20,  21,  22,  23,  24])"
      ]
     },
     "execution_count": 242,
     "metadata": {},
     "output_type": "execute_result"
    }
   ],
   "source": [
    "anotherArr # Still holds the old value"
   ]
  },
  {
   "cell_type": "markdown",
   "id": "6cedbd8e-4532-4681-8b1e-01df9d92d2c8",
   "metadata": {},
   "source": [
    "*  #### index operations with matrices"
   ]
  },
  {
   "cell_type": "code",
   "execution_count": 243,
   "id": "db8a4c21-b3a5-48aa-ae2d-ddbc799c9253",
   "metadata": {},
   "outputs": [
    {
     "data": {
      "text/plain": [
       "array([[10, 20, 30],\n",
       "       [20, 30, 40],\n",
       "       [40, 50, 60]])"
      ]
     },
     "execution_count": 243,
     "metadata": {},
     "output_type": "execute_result"
    }
   ],
   "source": [
    "matrixArray # Created at the first part"
   ]
  },
  {
   "cell_type": "markdown",
   "id": "e39d18c6-82b4-4b8c-9f65-b0a458703429",
   "metadata": {},
   "source": [
    "> Everything works with standart lists also works with numpy arrays"
   ]
  },
  {
   "cell_type": "code",
   "execution_count": 244,
   "id": "6c57c9c3-8d0f-4340-bcf9-c57a10e59d58",
   "metadata": {},
   "outputs": [
    {
     "data": {
      "text/plain": [
       "array([10, 20, 30])"
      ]
     },
     "execution_count": 244,
     "metadata": {},
     "output_type": "execute_result"
    }
   ],
   "source": [
    "matrixArray[0]"
   ]
  },
  {
   "cell_type": "code",
   "execution_count": 245,
   "id": "707a3531-c2d7-4b3d-872a-da3775acf584",
   "metadata": {},
   "outputs": [
    {
     "data": {
      "text/plain": [
       "40"
      ]
     },
     "execution_count": 245,
     "metadata": {},
     "output_type": "execute_result"
    }
   ],
   "source": [
    "matrixArray[1][2]"
   ]
  },
  {
   "cell_type": "markdown",
   "id": "ece37a8a-e44c-4a9f-9d10-b83686e9628f",
   "metadata": {},
   "source": [
    "> But more things can be done with numpy array"
   ]
  },
  {
   "cell_type": "code",
   "execution_count": 246,
   "id": "b28384f2-7fa6-4445-a7d9-4b1f58a42ab2",
   "metadata": {},
   "outputs": [
    {
     "data": {
      "text/plain": [
       "40"
      ]
     },
     "execution_count": 246,
     "metadata": {},
     "output_type": "execute_result"
    }
   ],
   "source": [
    "matrixArray[1,2] # Same with matrixArray[1][2]"
   ]
  },
  {
   "cell_type": "code",
   "execution_count": 247,
   "id": "6b7623bc-5d57-46f0-901b-149e18509a7d",
   "metadata": {},
   "outputs": [
    {
     "data": {
      "text/plain": [
       "array([30, 40, 60])"
      ]
     },
     "execution_count": 247,
     "metadata": {},
     "output_type": "execute_result"
    }
   ],
   "source": [
    "matrixArray[0:, 2]"
   ]
  },
  {
   "cell_type": "code",
   "execution_count": 248,
   "id": "dedfed58-9e55-4828-a19e-7f6e8b5d11ff",
   "metadata": {},
   "outputs": [
    {
     "data": {
      "text/plain": [
       "array([[30],\n",
       "       [40],\n",
       "       [60]])"
      ]
     },
     "execution_count": 248,
     "metadata": {},
     "output_type": "execute_result"
    }
   ],
   "source": [
    "matrixArray[0:, 2:]"
   ]
  },
  {
   "cell_type": "code",
   "execution_count": 249,
   "id": "fe2155f6-c7a4-4b0d-b155-8449c5316ea6",
   "metadata": {},
   "outputs": [
    {
     "data": {
      "text/plain": [
       "array([[40, 50, 60],\n",
       "       [10, 20, 30]])"
      ]
     },
     "execution_count": 249,
     "metadata": {},
     "output_type": "execute_result"
    }
   ],
   "source": [
    "matrixArray[[2,0]]"
   ]
  },
  {
   "cell_type": "markdown",
   "id": "69a4639c-5448-4473-aaab-580c5e9fe0fc",
   "metadata": {},
   "source": [
    "## operations with numpy arrays"
   ]
  },
  {
   "cell_type": "code",
   "execution_count": 250,
   "id": "05246b28-29a2-4c93-90bf-8620a61e8b64",
   "metadata": {},
   "outputs": [],
   "source": [
    "arrForOps = np.random.randint(-100,100,20)"
   ]
  },
  {
   "cell_type": "code",
   "execution_count": 251,
   "id": "945753e3-da89-4068-acd6-a7c5cba86eda",
   "metadata": {},
   "outputs": [
    {
     "data": {
      "text/plain": [
       "array([-11, -12, -67,  48,  59, -88, -47, -20, -50, -15, -22,  -6, -36,\n",
       "        63,  79,  62, -11, -81,  82,  -8])"
      ]
     },
     "execution_count": 251,
     "metadata": {},
     "output_type": "execute_result"
    }
   ],
   "source": [
    "arrForOps"
   ]
  },
  {
   "cell_type": "code",
   "execution_count": 252,
   "id": "ce103474-5d07-4c37-b695-44084904e148",
   "metadata": {},
   "outputs": [
    {
     "data": {
      "text/plain": [
       "array([False, False, False,  True,  True, False, False, False, False,\n",
       "       False, False, False, False,  True,  True,  True, False, False,\n",
       "        True, False])"
      ]
     },
     "execution_count": 252,
     "metadata": {},
     "output_type": "execute_result"
    }
   ],
   "source": [
    "arrForOps > 0"
   ]
  },
  {
   "cell_type": "code",
   "execution_count": 253,
   "id": "fba48cc9-47fb-4ab7-8bfa-19587acb99cf",
   "metadata": {},
   "outputs": [
    {
     "data": {
      "text/plain": [
       "array([48, 59, 63, 79, 62, 82])"
      ]
     },
     "execution_count": 253,
     "metadata": {},
     "output_type": "execute_result"
    }
   ],
   "source": [
    "arrForOps[arrForOps > 0]"
   ]
  },
  {
   "cell_type": "code",
   "execution_count": 254,
   "id": "92b81de5-a611-414a-aed8-0aa5c6d8d26e",
   "metadata": {},
   "outputs": [
    {
     "data": {
      "text/plain": [
       "array([ -22,  -24, -134,   96,  118, -176,  -94,  -40, -100,  -30,  -44,\n",
       "        -12,  -72,  126,  158,  124,  -22, -162,  164,  -16])"
      ]
     },
     "execution_count": 254,
     "metadata": {},
     "output_type": "execute_result"
    }
   ],
   "source": [
    "arrForOps + arrForOps"
   ]
  },
  {
   "cell_type": "code",
   "execution_count": 255,
   "id": "8b60c4d8-dd3e-447b-9f8f-273a11d3e25c",
   "metadata": {},
   "outputs": [
    {
     "data": {
      "text/plain": [
       "array([ 121,  144, 4489, 2304, 3481, 7744, 2209,  400, 2500,  225,  484,\n",
       "         36, 1296, 3969, 6241, 3844,  121, 6561, 6724,   64])"
      ]
     },
     "execution_count": 255,
     "metadata": {},
     "output_type": "execute_result"
    }
   ],
   "source": [
    "arrForOps * arrForOps"
   ]
  },
  {
   "cell_type": "code",
   "execution_count": 256,
   "id": "442c622b-d627-41cc-ae1c-ca89efa992c3",
   "metadata": {},
   "outputs": [
    {
     "data": {
      "text/plain": [
       "array([0, 0, 0, 0, 0, 0, 0, 0, 0, 0, 0, 0, 0, 0, 0, 0, 0, 0, 0, 0])"
      ]
     },
     "execution_count": 256,
     "metadata": {},
     "output_type": "execute_result"
    }
   ],
   "source": [
    "arrForOps - arrForOps"
   ]
  },
  {
   "cell_type": "code",
   "execution_count": 257,
   "id": "e31e6f4d-9957-48d1-a34e-bee6a1b2a583",
   "metadata": {},
   "outputs": [
    {
     "data": {
      "text/plain": [
       "array([6.92820323, 7.68114575, 7.93725393, 8.88819442, 7.87400787,\n",
       "       9.05538514])"
      ]
     },
     "execution_count": 257,
     "metadata": {},
     "output_type": "execute_result"
    }
   ],
   "source": [
    "np.sqrt(arrForOps[arrForOps > 0])"
   ]
  },
  {
   "cell_type": "code",
   "execution_count": 258,
   "id": "c6a18a2a-0402-476f-b846-5185d3a18c74",
   "metadata": {},
   "outputs": [
    {
     "data": {
      "text/plain": [
       "array([ 121,  144, 4489, 2304, 3481, 7744, 2209,  400, 2500,  225,  484,\n",
       "         36, 1296, 3969, 6241, 3844,  121, 6561, 6724,   64])"
      ]
     },
     "execution_count": 258,
     "metadata": {},
     "output_type": "execute_result"
    }
   ],
   "source": [
    "np.square(arrForOps)"
   ]
  },
  {
   "cell_type": "code",
   "execution_count": 259,
   "id": "d58843b7-bc64-476c-bfcd-ee639bc38d2a",
   "metadata": {},
   "outputs": [
    {
     "data": {
      "text/plain": [
       "-88"
      ]
     },
     "execution_count": 259,
     "metadata": {},
     "output_type": "execute_result"
    }
   ],
   "source": [
    "np.min(arrForOps)"
   ]
  },
  {
   "cell_type": "code",
   "execution_count": 260,
   "id": "5f802674-7dfc-4762-84f9-c1030d116418",
   "metadata": {},
   "outputs": [
    {
     "data": {
      "text/plain": [
       "82"
      ]
     },
     "execution_count": 260,
     "metadata": {},
     "output_type": "execute_result"
    }
   ],
   "source": [
    "np.max(arrForOps)"
   ]
  },
  {
   "cell_type": "code",
   "execution_count": 261,
   "id": "30ba2ba9-60c0-4ebf-8054-1454db9a3314",
   "metadata": {},
   "outputs": [
    {
     "data": {
      "text/plain": [
       "array([11, 12, 67, 48, 59, 88, 47, 20, 50, 15, 22,  6, 36, 63, 79, 62, 11,\n",
       "       81, 82,  8])"
      ]
     },
     "execution_count": 261,
     "metadata": {},
     "output_type": "execute_result"
    }
   ],
   "source": [
    "np.abs(arrForOps)"
   ]
  },
  {
   "cell_type": "code",
   "execution_count": 262,
   "id": "1bc49c56-7bc2-436a-a40a-60ac689bb906",
   "metadata": {},
   "outputs": [
    {
     "data": {
      "text/plain": [
       "array([ 0.99999021,  0.53657292,  0.85551998, -0.76825466,  0.63673801,\n",
       "       -0.0353983 , -0.12357312, -0.91294525,  0.26237485, -0.65028784,\n",
       "        0.00885131,  0.2794155 ,  0.99177885,  0.1673557 , -0.44411267,\n",
       "       -0.7391807 ,  0.99999021,  0.62988799,  0.31322878, -0.98935825])"
      ]
     },
     "execution_count": 262,
     "metadata": {},
     "output_type": "execute_result"
    }
   ],
   "source": [
    "np.sin(arrForOps)"
   ]
  },
  {
   "cell_type": "code",
   "execution_count": 263,
   "id": "14b041e5-1562-4757-af22-7ef8e679a8a9",
   "metadata": {},
   "outputs": [
    {
     "data": {
      "text/plain": [
       "array([ 0.0044257 ,  0.84385396, -0.5177698 , -0.64014434, -0.77108022,\n",
       "        0.99937328, -0.99233547,  0.40808206,  0.96496603, -0.75968791,\n",
       "       -0.99996083,  0.96017029, -0.12796369,  0.98589658, -0.89597095,\n",
       "        0.67350716,  0.0044257 ,  0.77668598,  0.9496777 , -0.14550003])"
      ]
     },
     "execution_count": 263,
     "metadata": {},
     "output_type": "execute_result"
    }
   ],
   "source": [
    "np.cos(arrForOps)"
   ]
  },
  {
   "cell_type": "code",
   "execution_count": 264,
   "id": "cf209138-b7f4-4a95-a476-500326a1ec28",
   "metadata": {},
   "outputs": [
    {
     "data": {
      "text/plain": [
       "array([1., 1., 1., 1., 1., 1., 1., 1., 1., 1., 1., 1., 1., 1., 1., 1., 1.,\n",
       "       1., 1., 1.])"
      ]
     },
     "execution_count": 264,
     "metadata": {},
     "output_type": "execute_result"
    }
   ],
   "source": [
    "np.square(np.sin(arrForOps)) + np.square(np.cos(arrForOps))"
   ]
  },
  {
   "cell_type": "code",
   "execution_count": null,
   "id": "e796f5a7-544f-431f-804c-87f523069d60",
   "metadata": {},
   "outputs": [],
   "source": []
  }
 ],
 "metadata": {
  "kernelspec": {
   "display_name": "Python 3 (ipykernel)",
   "language": "python",
   "name": "python3"
  },
  "language_info": {
   "codemirror_mode": {
    "name": "ipython",
    "version": 3
   },
   "file_extension": ".py",
   "mimetype": "text/x-python",
   "name": "python",
   "nbconvert_exporter": "python",
   "pygments_lexer": "ipython3",
   "version": "3.11.7"
  }
 },
 "nbformat": 4,
 "nbformat_minor": 5
}
